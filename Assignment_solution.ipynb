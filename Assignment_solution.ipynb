{
 "cells": [
  {
   "cell_type": "markdown",
   "metadata": {},
   "source": [
    "<h1> Q. Train a classification deep learning model using the training data and submit your predictions for the testX file . </h1>"
   ]
  },
  {
   "cell_type": "code",
   "execution_count": 173,
   "metadata": {},
   "outputs": [],
   "source": [
    "# importing required libraries"
   ]
  },
  {
   "cell_type": "code",
   "execution_count": 174,
   "metadata": {},
   "outputs": [],
   "source": [
    "import numpy as np \n",
    "import pandas as pd"
   ]
  },
  {
   "cell_type": "code",
   "execution_count": 175,
   "metadata": {},
   "outputs": [],
   "source": [
    "import tensorflow\n",
    "import keras\n",
    "from keras.datasets import mnist\n",
    "from keras.models import Sequential\n",
    "from keras.layers import Dense,Dropout,Flatten,Activation\n",
    "from keras.layers import Conv2D, MaxPooling2D\n",
    "from keras import backend as K\n",
    "from sklearn.model_selection import train_test_split\n",
    "import pickle\n",
    "from keras import optimizers\n",
    "from keras.utils import to_categorical\n"
   ]
  },
  {
   "cell_type": "markdown",
   "metadata": {},
   "source": [
    "<h2>1. Reading the pickle files </h2>"
   ]
  },
  {
   "cell_type": "code",
   "execution_count": 176,
   "metadata": {},
   "outputs": [],
   "source": [
    "with open(\"trainX.pickle\",\"rb\") as pickle_in:\n",
    "    X = pickle.load(pickle_in)\n",
    "    \n",
    "with open(\"trainY.pickle\",\"rb\") as pickle_in:\n",
    "    y = pickle.load(pickle_in)    \n",
    "    "
   ]
  },
  {
   "cell_type": "code",
   "execution_count": 177,
   "metadata": {},
   "outputs": [
    {
     "name": "stdout",
     "output_type": "stream",
     "text": [
      "(60000, 28, 28)\n",
      "(60000,)\n"
     ]
    }
   ],
   "source": [
    "print(X.shape)\n",
    "print(y.shape)"
   ]
  },
  {
   "cell_type": "markdown",
   "metadata": {},
   "source": [
    "<h2> 2. Splitting the data into 3:1 (train data and test data) </h2>"
   ]
  },
  {
   "cell_type": "code",
   "execution_count": 178,
   "metadata": {},
   "outputs": [],
   "source": [
    "\n",
    "X_train,X_test,y_train,y_test=train_test_split(X,y,random_state=13,test_size=0.25)\n"
   ]
  },
  {
   "cell_type": "code",
   "execution_count": 179,
   "metadata": {},
   "outputs": [
    {
     "name": "stdout",
     "output_type": "stream",
     "text": [
      "(45000, 28, 28)\n",
      "(45000,)\n",
      "(15000, 28, 28)\n",
      "(15000,)\n"
     ]
    }
   ],
   "source": [
    "print(X_train.shape)\n",
    "print(y_train.shape)\n",
    "print(X_test.shape)\n",
    "print(y_test.shape)"
   ]
  },
  {
   "cell_type": "markdown",
   "metadata": {},
   "source": [
    "<h2> 3. Reshaping the size of data, because we can't fit 3d data into model,so need to convert into 2d </h2>"
   ]
  },
  {
   "cell_type": "code",
   "execution_count": 180,
   "metadata": {},
   "outputs": [
    {
     "data": {
      "text/plain": [
       "(28, 28, 1)"
      ]
     },
     "execution_count": 180,
     "metadata": {},
     "output_type": "execute_result"
    }
   ],
   "source": [
    "img_rows, img_cols = 28, 28\n",
    "\n",
    "X_train=X_train.reshape(X_train.shape[0],img_rows,img_cols,1)\n",
    "X_test=X_test.reshape(X_test.shape[0],img_rows,img_cols,1)\n",
    "input_shape=(img_rows,img_cols,1)\n",
    "input_shape"
   ]
  },
  {
   "cell_type": "code",
   "execution_count": 181,
   "metadata": {},
   "outputs": [],
   "source": [
    "X_train=X_train.astype('float32')\n",
    "X_test=X_test.astype('float32')\n",
    "X_train/=255\n",
    "X_test/=255"
   ]
  },
  {
   "cell_type": "code",
   "execution_count": 182,
   "metadata": {},
   "outputs": [
    {
     "name": "stdout",
     "output_type": "stream",
     "text": [
      "(45000, 28, 28, 1)\n",
      "Train samples:  45000\n",
      "Test samples:  15000\n"
     ]
    }
   ],
   "source": [
    "print(X_train.shape)\n",
    "print(\"Train samples: \",X_train.shape[0])\n",
    "print(\"Test samples: \",X_test.shape[0])\n"
   ]
  },
  {
   "cell_type": "code",
   "execution_count": 183,
   "metadata": {},
   "outputs": [],
   "source": [
    "batch_size = 256\n",
    "num_classes = 10\n",
    "epochs = 50"
   ]
  },
  {
   "cell_type": "code",
   "execution_count": 184,
   "metadata": {},
   "outputs": [],
   "source": [
    "y_train=keras.utils.to_categorical(y_train,num_classes)\n",
    "y_test=keras.utils.to_categorical(y_test,num_classes)\n",
    "\n",
    "X_train=np.reshape(X_train,(45000,784))\n",
    "X_test=np.reshape(X_test,(15000,784))"
   ]
  },
  {
   "cell_type": "markdown",
   "metadata": {},
   "source": [
    "<h2> 4. Building the Sequential model  and adding Convolutional Layers </h2>"
   ]
  },
  {
   "cell_type": "code",
   "execution_count": 185,
   "metadata": {},
   "outputs": [
    {
     "name": "stdout",
     "output_type": "stream",
     "text": [
      "_________________________________________________________________\n",
      "Layer (type)                 Output Shape              Param #   \n",
      "=================================================================\n",
      "conv2d_16 (Conv2D)           (None, 26, 26, 32)        320       \n",
      "_________________________________________________________________\n",
      "max_pooling2d_11 (MaxPooling (None, 13, 13, 32)        0         \n",
      "_________________________________________________________________\n",
      "dropout_21 (Dropout)         (None, 13, 13, 32)        0         \n",
      "_________________________________________________________________\n",
      "conv2d_17 (Conv2D)           (None, 11, 11, 64)        18496     \n",
      "_________________________________________________________________\n",
      "max_pooling2d_12 (MaxPooling (None, 5, 5, 64)          0         \n",
      "_________________________________________________________________\n",
      "dropout_22 (Dropout)         (None, 5, 5, 64)          0         \n",
      "_________________________________________________________________\n",
      "conv2d_18 (Conv2D)           (None, 3, 3, 128)         73856     \n",
      "_________________________________________________________________\n",
      "dropout_23 (Dropout)         (None, 3, 3, 128)         0         \n",
      "_________________________________________________________________\n",
      "flatten_6 (Flatten)          (None, 1152)              0         \n",
      "_________________________________________________________________\n",
      "dense_11 (Dense)             (None, 128)               147584    \n",
      "_________________________________________________________________\n",
      "dropout_24 (Dropout)         (None, 128)               0         \n",
      "_________________________________________________________________\n",
      "dense_12 (Dense)             (None, 10)                1290      \n",
      "=================================================================\n",
      "Total params: 241,546\n",
      "Trainable params: 241,546\n",
      "Non-trainable params: 0\n",
      "_________________________________________________________________\n"
     ]
    }
   ],
   "source": [
    "model = Sequential()\n",
    "\n",
    "#Layer-1 Input Layer\n",
    "model.add(Conv2D(32, kernel_size=(3, 3),\n",
    "                 activation='relu',\n",
    "                 kernel_initializer='he_normal',\n",
    "                 input_shape=input_shape))\n",
    "model.add(MaxPooling2D((2, 2)))\n",
    "model.add(Dropout(0.25))\n",
    "\n",
    "#Layer-2 Hidden Layer1\n",
    "model.add(Conv2D(64, (3, 3), activation='relu'))\n",
    "model.add(MaxPooling2D(pool_size=(2, 2)))\n",
    "model.add(Dropout(0.25))\n",
    "\n",
    "#Layer-3 Hidden Layer2\n",
    "model.add(Conv2D(128, (3, 3), activation='relu'))\n",
    "model.add(Dropout(0.4))\n",
    "model.add(Flatten())\n",
    "model.add(Dense(128, activation='relu'))\n",
    "model.add(Dropout(0.3))\n",
    "\n",
    "#Layer-3 Ouptput Layer\n",
    "model.add(Dense(num_classes, activation='softmax'))\n",
    "\n",
    "model.compile(loss=keras.losses.categorical_crossentropy,\n",
    "              optimizer=keras.optimizers.Adam(),\n",
    "              metrics=['accuracy'])\n",
    "model.summary()"
   ]
  },
  {
   "cell_type": "code",
   "execution_count": 186,
   "metadata": {},
   "outputs": [],
   "source": [
    "X_train = X_train.reshape(-1,28, 28, 1)   #Reshape for CNN (requires 4 parameters)\n",
    "X_test = X_test.reshape(-1,28, 28, 1)\n"
   ]
  },
  {
   "cell_type": "markdown",
   "metadata": {},
   "source": [
    "<h2> 5. Fitting the data into Model </h2>"
   ]
  },
  {
   "cell_type": "code",
   "execution_count": 187,
   "metadata": {},
   "outputs": [
    {
     "name": "stdout",
     "output_type": "stream",
     "text": [
      "Train on 45000 samples, validate on 15000 samples\n",
      "Epoch 1/50\n",
      "45000/45000 [==============================] - 137s 3ms/step - loss: 0.8174 - acc: 0.6945 - val_loss: 0.4985 - val_acc: 0.8226\n",
      "Epoch 2/50\n",
      "45000/45000 [==============================] - 129s 3ms/step - loss: 0.5069 - acc: 0.8129 - val_loss: 0.3922 - val_acc: 0.8600\n",
      "Epoch 3/50\n",
      "45000/45000 [==============================] - 130s 3ms/step - loss: 0.4316 - acc: 0.8410 - val_loss: 0.3680 - val_acc: 0.8676\n",
      "Epoch 4/50\n",
      "45000/45000 [==============================] - 125s 3ms/step - loss: 0.3906 - acc: 0.8554 - val_loss: 0.3280 - val_acc: 0.8817\n",
      "Epoch 5/50\n",
      "45000/45000 [==============================] - 121s 3ms/step - loss: 0.3590 - acc: 0.8701 - val_loss: 0.3110 - val_acc: 0.8889\n",
      "Epoch 6/50\n",
      "45000/45000 [==============================] - 138s 3ms/step - loss: 0.3406 - acc: 0.8755 - val_loss: 0.2874 - val_acc: 0.8962\n",
      "Epoch 7/50\n",
      "45000/45000 [==============================] - 136s 3ms/step - loss: 0.3260 - acc: 0.8820 - val_loss: 0.2828 - val_acc: 0.8978\n",
      "Epoch 8/50\n",
      "45000/45000 [==============================] - 155s 3ms/step - loss: 0.3127 - acc: 0.8851 - val_loss: 0.2752 - val_acc: 0.9017\n",
      "Epoch 9/50\n",
      "45000/45000 [==============================] - 147s 3ms/step - loss: 0.3041 - acc: 0.8875 - val_loss: 0.2633 - val_acc: 0.9046\n",
      "Epoch 10/50\n",
      "45000/45000 [==============================] - 116s 3ms/step - loss: 0.2944 - acc: 0.8907 - val_loss: 0.2564 - val_acc: 0.9069\n",
      "Epoch 11/50\n",
      "45000/45000 [==============================] - 107s 2ms/step - loss: 0.2888 - acc: 0.8923 - val_loss: 0.2619 - val_acc: 0.9073\n",
      "Epoch 12/50\n",
      "45000/45000 [==============================] - 106s 2ms/step - loss: 0.2781 - acc: 0.8980 - val_loss: 0.2501 - val_acc: 0.9107\n",
      "Epoch 13/50\n",
      "45000/45000 [==============================] - 109s 2ms/step - loss: 0.2732 - acc: 0.8999 - val_loss: 0.2479 - val_acc: 0.9117\n",
      "Epoch 14/50\n",
      "45000/45000 [==============================] - 106s 2ms/step - loss: 0.2681 - acc: 0.9007 - val_loss: 0.2425 - val_acc: 0.9134\n",
      "Epoch 15/50\n",
      "45000/45000 [==============================] - 105s 2ms/step - loss: 0.2581 - acc: 0.9045 - val_loss: 0.2396 - val_acc: 0.9119\n",
      "Epoch 16/50\n",
      "45000/45000 [==============================] - 105s 2ms/step - loss: 0.2572 - acc: 0.9050 - val_loss: 0.2400 - val_acc: 0.9139\n",
      "Epoch 17/50\n",
      "45000/45000 [==============================] - 105s 2ms/step - loss: 0.2511 - acc: 0.9075 - val_loss: 0.2383 - val_acc: 0.9134\n",
      "Epoch 18/50\n",
      "45000/45000 [==============================] - 105s 2ms/step - loss: 0.2456 - acc: 0.9073 - val_loss: 0.2356 - val_acc: 0.9155\n",
      "Epoch 19/50\n",
      "45000/45000 [==============================] - 105s 2ms/step - loss: 0.2456 - acc: 0.9086 - val_loss: 0.2323 - val_acc: 0.9163\n",
      "Epoch 20/50\n",
      "45000/45000 [==============================] - 105s 2ms/step - loss: 0.2381 - acc: 0.9110 - val_loss: 0.2295 - val_acc: 0.9179\n",
      "Epoch 21/50\n",
      "45000/45000 [==============================] - 105s 2ms/step - loss: 0.2384 - acc: 0.9101 - val_loss: 0.2315 - val_acc: 0.9161\n",
      "Epoch 22/50\n",
      "45000/45000 [==============================] - 105s 2ms/step - loss: 0.2358 - acc: 0.9110 - val_loss: 0.2264 - val_acc: 0.9167\n",
      "Epoch 23/50\n",
      "45000/45000 [==============================] - 106s 2ms/step - loss: 0.2303 - acc: 0.9135 - val_loss: 0.2237 - val_acc: 0.9211\n",
      "Epoch 24/50\n",
      "45000/45000 [==============================] - 106s 2ms/step - loss: 0.2221 - acc: 0.9168 - val_loss: 0.2229 - val_acc: 0.9201\n",
      "Epoch 25/50\n",
      "45000/45000 [==============================] - 105s 2ms/step - loss: 0.2234 - acc: 0.9172 - val_loss: 0.2227 - val_acc: 0.9214\n",
      "Epoch 26/50\n",
      "45000/45000 [==============================] - 105s 2ms/step - loss: 0.2211 - acc: 0.9176 - val_loss: 0.2368 - val_acc: 0.9167\n",
      "Epoch 27/50\n",
      "45000/45000 [==============================] - 107s 2ms/step - loss: 0.2162 - acc: 0.9177 - val_loss: 0.2299 - val_acc: 0.9166\n",
      "Epoch 28/50\n",
      "45000/45000 [==============================] - 108s 2ms/step - loss: 0.2187 - acc: 0.9181 - val_loss: 0.2206 - val_acc: 0.9199\n",
      "Epoch 29/50\n",
      "45000/45000 [==============================] - 102s 2ms/step - loss: 0.2174 - acc: 0.9184 - val_loss: 0.2266 - val_acc: 0.9199\n",
      "Epoch 30/50\n",
      "45000/45000 [==============================] - 103s 2ms/step - loss: 0.2143 - acc: 0.9190 - val_loss: 0.2240 - val_acc: 0.9198\n",
      "Epoch 31/50\n",
      "45000/45000 [==============================] - 102s 2ms/step - loss: 0.2100 - acc: 0.9212 - val_loss: 0.2199 - val_acc: 0.9228\n",
      "Epoch 32/50\n",
      "45000/45000 [==============================] - 103s 2ms/step - loss: 0.2087 - acc: 0.9209 - val_loss: 0.2203 - val_acc: 0.9187\n",
      "Epoch 33/50\n",
      "45000/45000 [==============================] - 103s 2ms/step - loss: 0.2040 - acc: 0.9229 - val_loss: 0.2195 - val_acc: 0.9204\n",
      "Epoch 34/50\n",
      "45000/45000 [==============================] - 105s 2ms/step - loss: 0.2067 - acc: 0.9223 - val_loss: 0.2174 - val_acc: 0.9226\n",
      "Epoch 35/50\n",
      "45000/45000 [==============================] - 105s 2ms/step - loss: 0.2025 - acc: 0.9253 - val_loss: 0.2191 - val_acc: 0.9231\n",
      "Epoch 36/50\n",
      "45000/45000 [==============================] - 105s 2ms/step - loss: 0.1976 - acc: 0.9248 - val_loss: 0.2212 - val_acc: 0.9224\n",
      "Epoch 37/50\n",
      "45000/45000 [==============================] - 106s 2ms/step - loss: 0.2026 - acc: 0.9222 - val_loss: 0.2136 - val_acc: 0.9243\n",
      "Epoch 38/50\n",
      "45000/45000 [==============================] - 132s 3ms/step - loss: 0.2000 - acc: 0.9244 - val_loss: 0.2186 - val_acc: 0.9227\n",
      "Epoch 39/50\n",
      "45000/45000 [==============================] - 108s 2ms/step - loss: 0.1974 - acc: 0.9259 - val_loss: 0.2193 - val_acc: 0.9243\n",
      "Epoch 40/50\n",
      "45000/45000 [==============================] - 106s 2ms/step - loss: 0.1930 - acc: 0.9271 - val_loss: 0.2160 - val_acc: 0.9243\n",
      "Epoch 41/50\n",
      "45000/45000 [==============================] - 110s 2ms/step - loss: 0.1932 - acc: 0.9290 - val_loss: 0.2213 - val_acc: 0.9233\n",
      "Epoch 42/50\n",
      "45000/45000 [==============================] - 136s 3ms/step - loss: 0.1926 - acc: 0.9287 - val_loss: 0.2232 - val_acc: 0.9205\n",
      "Epoch 43/50\n",
      "45000/45000 [==============================] - 110s 2ms/step - loss: 0.1888 - acc: 0.9284 - val_loss: 0.2161 - val_acc: 0.9243\n",
      "Epoch 44/50\n",
      "45000/45000 [==============================] - 108s 2ms/step - loss: 0.1854 - acc: 0.9299 - val_loss: 0.2168 - val_acc: 0.9258\n",
      "Epoch 45/50\n",
      "45000/45000 [==============================] - 120s 3ms/step - loss: 0.1892 - acc: 0.9286 - val_loss: 0.2152 - val_acc: 0.9241\n",
      "Epoch 46/50\n",
      "45000/45000 [==============================] - 116s 3ms/step - loss: 0.1856 - acc: 0.9312 - val_loss: 0.2112 - val_acc: 0.9285\n",
      "Epoch 47/50\n",
      "45000/45000 [==============================] - 160s 4ms/step - loss: 0.1897 - acc: 0.9274 - val_loss: 0.2133 - val_acc: 0.9255\n",
      "Epoch 48/50\n",
      "45000/45000 [==============================] - 126s 3ms/step - loss: 0.1845 - acc: 0.9286 - val_loss: 0.2157 - val_acc: 0.9262\n",
      "Epoch 49/50\n",
      "45000/45000 [==============================] - 116s 3ms/step - loss: 0.1830 - acc: 0.9312 - val_loss: 0.2158 - val_acc: 0.9255\n",
      "Epoch 50/50\n",
      "45000/45000 [==============================] - 119s 3ms/step - loss: 0.1871 - acc: 0.9287 - val_loss: 0.2134 - val_acc: 0.9253\n"
     ]
    }
   ],
   "source": [
    "# Fit() returns a history object which we can use to plot the graphs for the validation accuracy and validation loss \n",
    "\n",
    "history = model.fit(X_train, y_train,\n",
    "          batch_size=batch_size,\n",
    "          epochs=epochs,\n",
    "          verbose=1,\n",
    "          validation_data=(X_test, y_test))\n",
    "score = model.evaluate(X_test, y_test, verbose=0)\n",
    "#print(score)"
   ]
  },
  {
   "cell_type": "markdown",
   "metadata": {},
   "source": [
    "<h2> 6. Showing the accuracy of the model </h2> "
   ]
  },
  {
   "cell_type": "code",
   "execution_count": 192,
   "metadata": {},
   "outputs": [
    {
     "name": "stdout",
     "output_type": "stream",
     "text": [
      "Test loss: 0.21338630822698276\n",
      "Test accuracy: 0.9253333333333333\n"
     ]
    }
   ],
   "source": [
    "print('Test loss:', score[0])\n",
    "print('Test accuracy:', score[1])"
   ]
  },
  {
   "cell_type": "markdown",
   "metadata": {},
   "source": [
    "<h1> 7. Loading the testing pickle file </h1>"
   ]
  },
  {
   "cell_type": "code",
   "execution_count": 223,
   "metadata": {},
   "outputs": [
    {
     "data": {
      "text/plain": [
       "(10000, 28, 28)"
      ]
     },
     "execution_count": 223,
     "metadata": {},
     "output_type": "execute_result"
    }
   ],
   "source": [
    "with open(\"testX.pickle\",\"rb\") as pickle_in:\n",
    "    test_X = pickle.load(pickle_in)\n",
    "test_X.shape"
   ]
  },
  {
   "cell_type": "code",
   "execution_count": 224,
   "metadata": {},
   "outputs": [
    {
     "data": {
      "text/plain": [
       "(10000, 28, 28, 1)"
      ]
     },
     "execution_count": 224,
     "metadata": {},
     "output_type": "execute_result"
    }
   ],
   "source": [
    "test_X=test_X.reshape(test_X.shape[0],img_rows,img_cols,1)\n",
    "\n",
    "test_X = test_X.astype('float32')\n",
    "test_X /= 255\n",
    "test_X.shape"
   ]
  },
  {
   "cell_type": "markdown",
   "metadata": {},
   "source": [
    "<h2>8. Predicting the classes(0-10) for the testX dataset </h2>"
   ]
  },
  {
   "cell_type": "code",
   "execution_count": 225,
   "metadata": {},
   "outputs": [
    {
     "data": {
      "text/plain": [
       "array([9, 2, 1, ..., 8, 1, 5], dtype=int64)"
      ]
     },
     "execution_count": 225,
     "metadata": {},
     "output_type": "execute_result"
    }
   ],
   "source": [
    "y_pred_class = model.predict_classes(test_X)\n",
    "y_pred_class"
   ]
  },
  {
   "cell_type": "markdown",
   "metadata": {},
   "source": [
    "<h2> 9. Showing the testX images with their corresponding predicted classes </h2>"
   ]
  },
  {
   "cell_type": "code",
   "execution_count": 227,
   "metadata": {},
   "outputs": [
    {
     "name": "stdout",
     "output_type": "stream",
     "text": [
      "\n",
      "Image at 0th index\n",
      "Predicted class :  9\n"
     ]
    },
    {
     "data": {
      "image/png": "[encoded data removed]",
      "text/plain": [
       "<Figure size 288x288 with 1 Axes>"
      ]
     },
     "metadata": {
      "needs_background": "light"
     },
     "output_type": "display_data"
    },
    {
     "name": "stdout",
     "output_type": "stream",
     "text": [
      "\n",
      "Image at 1th index\n",
      "Predicted class :  2\n"
     ]
    },
    {
     "data": {
      "image/png": "[encoded data removed]",
      "text/plain": [
       "<Figure size 288x288 with 1 Axes>"
      ]
     },
     "metadata": {
      "needs_background": "light"
     },
     "output_type": "display_data"
    },
    {
     "name": "stdout",
     "output_type": "stream",
     "text": [
      "\n",
      "Image at 2th index\n",
      "Predicted class :  1\n"
     ]
    },
    {
     "data": {
      "image/png": "[encoded data removed]",
      "text/plain": [
       "<Figure size 288x288 with 1 Axes>"
      ]
     },
     "metadata": {
      "needs_background": "light"
     },
     "output_type": "display_data"
    },
    {
     "name": "stdout",
     "output_type": "stream",
     "text": [
      "\n",
      "Image at 3th index\n",
      "Predicted class :  1\n"
     ]
    },
    {
     "data": {
      "image/png": "[encoded data removed]",
      "text/plain": [
       "<Figure size 288x288 with 1 Axes>"
      ]
     },
     "metadata": {
      "needs_background": "light"
     },
     "output_type": "display_data"
    },
    {
     "name": "stdout",
     "output_type": "stream",
     "text": [
      "\n",
      "Image at 4th index\n",
      "Predicted class :  6\n"
     ]
    },
    {
     "data": {
      "image/png": "[encoded data removed]",
      "text/plain": [
       "<Figure size 288x288 with 1 Axes>"
      ]
     },
     "metadata": {
      "needs_background": "light"
     },
     "output_type": "display_data"
    }
   ],
   "source": [
    "for i in range(0,5):\n",
    "    print(\"\\nImage at {}th index\".format(i))\n",
    "    plt.matshow(test_X[i].reshape(28,28))\n",
    "    print(\"Predicted class : \",y_pred_class[i])\n",
    "    plt.show()\n",
    "   "
   ]
  },
  {
   "cell_type": "markdown",
   "metadata": {},
   "source": [
    "<h2> 10. Writting the class values to the file </h2>"
   ]
  },
  {
   "cell_type": "code",
   "execution_count": 228,
   "metadata": {},
   "outputs": [],
   "source": [
    "with open('Reena_testY_pred_class.pickle', 'wb') as pickle_out:\n",
    "    pickle.dump(y_pred_class,pickle_out)"
   ]
  },
  {
   "cell_type": "markdown",
   "metadata": {},
   "source": [
    "<h2> 11. Plotting Training and validation Accuracy </h2>"
   ]
  },
  {
   "cell_type": "code",
   "execution_count": 229,
   "metadata": {},
   "outputs": [
    {
     "data": {
      "image/png": "[encoded data removed]",
      "text/plain": [
       "<Figure size 720x432 with 1 Axes>"
      ]
     },
     "metadata": {
      "needs_background": "light"
     },
     "output_type": "display_data"
    }
   ],
   "source": [
    "import matplotlib.pyplot as plt\n",
    "%matplotlib inline\n",
    "accuracy = history.history['acc']\n",
    "val_accuracy = history.history['val_acc']\n",
    "loss = history.history['loss']\n",
    "val_loss = history.history['val_loss']\n",
    "epochs = range(len(accuracy))\n",
    "plt.figure(figsize=(10,6))\n",
    "plt.plot(epochs, accuracy, 'bo', label='Training accuracy')\n",
    "plt.plot(epochs, val_accuracy, 'b', label='Validation accuracy')\n",
    "plt.title('Training and validation accuracy')\n",
    "plt.legend()\n",
    "\n",
    "plt.show()"
   ]
  },
  {
   "cell_type": "markdown",
   "metadata": {},
   "source": [
    "<h2> 12. Plotting Training and validation Loss </h2>"
   ]
  },
  {
   "cell_type": "code",
   "execution_count": 231,
   "metadata": {},
   "outputs": [
    {
     "data": {
      "image/png": "[encoded data removed]",
      "text/plain": [
       "<Figure size 720x360 with 1 Axes>"
      ]
     },
     "metadata": {
      "needs_background": "light"
     },
     "output_type": "display_data"
    }
   ],
   "source": [
    "plt.figure(figsize=(10,5))\n",
    "plt.plot(epochs, loss, 'bo', label='Training loss')\n",
    "plt.plot(epochs, val_loss, 'b', label='Validation loss')\n",
    "plt.title('Training and validation loss')\n",
    "plt.legend()\n",
    "plt.show()"
   ]
  }
 ],
 "metadata": {
  "kernelspec": {
   "display_name": "Python 3",
   "language": "python",
   "name": "python3"
  },
  "language_info": {
   "codemirror_mode": {
    "name": "ipython",
    "version": 3
   },
   "file_extension": ".py",
   "mimetype": "text/x-python",
   "name": "python",
   "nbconvert_exporter": "python",
   "pygments_lexer": "ipython3",
   "version": "3.6.5"
  }
 },
 "nbformat": 4,
 "nbformat_minor": 2
}
