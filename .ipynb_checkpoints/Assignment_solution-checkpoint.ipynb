{
 "cells": [
  {
   "cell_type": "markdown",
   "metadata": {},
   "source": [
    "<h1> Q. Train a classification deep learning model using the training data and submit your predictions for the testX file . </h1>"
   ]
  },
  {
   "cell_type": "code",
   "execution_count": 2,
   "metadata": {},
   "outputs": [],
   "source": [
    "# importing required libraries"
   ]
  },
  {
   "cell_type": "code",
   "execution_count": 3,
   "metadata": {},
   "outputs": [],
   "source": [
    "import numpy as np \n",
    "import pandas as pd"
   ]
  },
  {
   "cell_type": "code",
   "execution_count": 4,
   "metadata": {},
   "outputs": [
    {
     "name": "stderr",
     "output_type": "stream",
     "text": [
      "C:\\Users\\Reena\\Anaconda3\\lib\\site-packages\\h5py\\__init__.py:36: FutureWarning: Conversion of the second argument of issubdtype from `float` to `np.floating` is deprecated. In future, it will be treated as `np.float64 == np.dtype(float).type`.\n",
      "  from ._conv import register_converters as _register_converters\n",
      "Using TensorFlow backend.\n"
     ]
    }
   ],
   "source": [
    "import tensorflow\n",
    "import keras\n",
    "from keras.datasets import mnist\n",
    "from keras.models import Sequential\n",
    "from keras.layers import Dense,Dropout,Flatten,Activation\n",
    "from keras.layers import Conv2D, MaxPooling2D\n",
    "from keras import backend as K\n",
    "from sklearn.model_selection import train_test_split\n",
    "import pickle\n",
    "from keras import optimizers\n",
    "from keras.utils import to_categorical\n"
   ]
  },
  {
   "cell_type": "markdown",
   "metadata": {},
   "source": [
    "<h2>1. Reading the pickle files </h2>"
   ]
  },
  {
   "cell_type": "code",
   "execution_count": 5,
   "metadata": {},
   "outputs": [],
   "source": [
    "with open(\"trainX.pickle\",\"rb\") as pickle_in:\n",
    "    X = pickle.load(pickle_in)\n",
    "    \n",
    "with open(\"trainY.pickle\",\"rb\") as pickle_in:\n",
    "    y = pickle.load(pickle_in)    \n",
    "    "
   ]
  },
  {
   "cell_type": "code",
   "execution_count": 6,
   "metadata": {},
   "outputs": [
    {
     "name": "stdout",
     "output_type": "stream",
     "text": [
      "(60000, 28, 28)\n",
      "(60000,)\n"
     ]
    }
   ],
   "source": [
    "print(X.shape)\n",
    "print(y.shape)"
   ]
  },
  {
   "cell_type": "markdown",
   "metadata": {},
   "source": [
    "<h2> 2. Splitting the data into 3:1 (train data and test data) </h2>"
   ]
  },
  {
   "cell_type": "code",
   "execution_count": 7,
   "metadata": {},
   "outputs": [],
   "source": [
    "\n",
    "X_train,X_test,y_train,y_test=train_test_split(X,y,random_state=13,test_size=0.25)\n"
   ]
  },
  {
   "cell_type": "code",
   "execution_count": 8,
   "metadata": {},
   "outputs": [
    {
     "name": "stdout",
     "output_type": "stream",
     "text": [
      "(45000, 28, 28)\n",
      "(45000,)\n",
      "(15000, 28, 28)\n",
      "(15000,)\n"
     ]
    }
   ],
   "source": [
    "print(X_train.shape)\n",
    "print(y_train.shape)\n",
    "print(X_test.shape)\n",
    "print(y_test.shape)"
   ]
  },
  {
   "cell_type": "code",
   "execution_count": 9,
   "metadata": {},
   "outputs": [],
   "source": [
    "temp_y_train=y_train\n",
    "temp_y_test=y_test\n",
    "\n"
   ]
  },
  {
   "cell_type": "markdown",
   "metadata": {},
   "source": [
    "<h2> 3. Reshaping the size of data, because we can't fit 3d data into model,so need to convert into 2d </h2>"
   ]
  },
  {
   "cell_type": "code",
   "execution_count": 10,
   "metadata": {},
   "outputs": [
    {
     "data": {
      "text/plain": [
       "(28, 28, 1)"
      ]
     },
     "execution_count": 10,
     "metadata": {},
     "output_type": "execute_result"
    }
   ],
   "source": [
    "img_rows, img_cols = 28, 28\n",
    "\n",
    "X_train=X_train.reshape(X_train.shape[0],img_rows,img_cols,1)\n",
    "X_test=X_test.reshape(X_test.shape[0],img_rows,img_cols,1)\n",
    "input_shape=(img_rows,img_cols,1)\n",
    "input_shape"
   ]
  },
  {
   "cell_type": "code",
   "execution_count": 11,
   "metadata": {},
   "outputs": [],
   "source": [
    "X_train=X_train.astype('float32')\n",
    "X_test=X_test.astype('float32')\n",
    "X_train/=255\n",
    "X_test/=255"
   ]
  },
  {
   "cell_type": "code",
   "execution_count": 12,
   "metadata": {},
   "outputs": [
    {
     "name": "stdout",
     "output_type": "stream",
     "text": [
      "(45000, 28, 28, 1)\n",
      "Train samples:  45000\n",
      "Test samples:  15000\n"
     ]
    }
   ],
   "source": [
    "print(X_train.shape)\n",
    "print(\"Train samples: \",X_train.shape[0])\n",
    "print(\"Test samples: \",X_test.shape[0])\n"
   ]
  },
  {
   "cell_type": "markdown",
   "metadata": {},
   "source": [
    "<h2> Defining the various parameters...</h2>\n",
    "<h6> <br> 1.batch_size->We divide the whole data into smaples.=2**n<br>\n",
    "    2.num_classes->Classes depends on the no of unique values in our y part<br>\n",
    "    3.epochs->one epoch = one forward pass and one backward pass(or we can say a jump to correct the data)\n",
    "</h6>"
   ]
  },
  {
   "cell_type": "code",
   "execution_count": 16,
   "metadata": {},
   "outputs": [],
   "source": [
    "# batch_size = 256\n",
    "num_classes = 10\n",
    "# epochs = 50"
   ]
  },
  {
   "cell_type": "code",
   "execution_count": 17,
   "metadata": {},
   "outputs": [
    {
     "name": "stdout",
     "output_type": "stream",
     "text": [
      "(45000, 784)\n",
      "(15000, 784)\n"
     ]
    }
   ],
   "source": [
    "y_train=keras.utils.to_categorical(y_train,num_classes)\n",
    "y_test=keras.utils.to_categorical(y_test,num_classes)\n",
    "\n",
    "X_train=np.reshape(X_train,(45000,784))\n",
    "X_test=np.reshape(X_test,(15000,784))\n",
    "#X_train.shape\n",
    "\n",
    "temp_X_train=X_train\n",
    "temp_X_test=X_test\n",
    "\n",
    "print(temp_X_train.shape)\n",
    "print(temp_X_test.shape)"
   ]
  },
  {
   "cell_type": "markdown",
   "metadata": {},
   "source": [
    "<h1> 4.Building the Sequential Model </h1>"
   ]
  },
  {
   "cell_type": "code",
   "execution_count": 18,
   "metadata": {},
   "outputs": [],
   "source": [
    "batch_size=512\n",
    "epochs=100"
   ]
  },
  {
   "cell_type": "code",
   "execution_count": 19,
   "metadata": {},
   "outputs": [
    {
     "name": "stderr",
     "output_type": "stream",
     "text": [
      "WARNING: Logging before flag parsing goes to stderr.\n",
      "W0624 01:00:27.611292 60144 deprecation_wrapper.py:119] From C:\\Users\\Reena\\Anaconda3\\lib\\site-packages\\keras\\backend\\tensorflow_backend.py:74: The name tf.get_default_graph is deprecated. Please use tf.compat.v1.get_default_graph instead.\n",
      "\n",
      "W0624 01:00:34.751488 60144 deprecation_wrapper.py:119] From C:\\Users\\Reena\\Anaconda3\\lib\\site-packages\\keras\\backend\\tensorflow_backend.py:517: The name tf.placeholder is deprecated. Please use tf.compat.v1.placeholder instead.\n",
      "\n",
      "W0624 01:00:35.642053 60144 deprecation_wrapper.py:119] From C:\\Users\\Reena\\Anaconda3\\lib\\site-packages\\keras\\backend\\tensorflow_backend.py:4138: The name tf.random_uniform is deprecated. Please use tf.random.uniform instead.\n",
      "\n",
      "W0624 01:00:36.595054 60144 deprecation_wrapper.py:119] From C:\\Users\\Reena\\Anaconda3\\lib\\site-packages\\keras\\optimizers.py:790: The name tf.train.Optimizer is deprecated. Please use tf.compat.v1.train.Optimizer instead.\n",
      "\n",
      "W0624 01:00:36.876321 60144 deprecation_wrapper.py:119] From C:\\Users\\Reena\\Anaconda3\\lib\\site-packages\\keras\\backend\\tensorflow_backend.py:3295: The name tf.log is deprecated. Please use tf.math.log instead.\n",
      "\n"
     ]
    }
   ],
   "source": [
    "model = Sequential()\n",
    "\n",
    "#Layer-1 Input Layer\n",
    "model.add(Dense(800, input_dim=784), )\n",
    "model.add(Activation('relu'))\n",
    "\n",
    "#Layer-2 Hidden Layer1\n",
    "model.add(Dense(500))\n",
    "model.add(Activation('relu'))\n",
    "\n",
    "#Layer-3 Hidden Layer2\n",
    "model.add(Dense(500))\n",
    "model.add(Activation('relu'))\n",
    "\n",
    "#Layer-4 Ouptput Layer\n",
    "model.add(Dense(10))\n",
    "model.add(Activation('softmax'))\n",
    "\n",
    "#Compiling the model,we can use other optimizers also like svg,adam etc but here 'Adadelta' this is more optimal\n",
    "\n",
    "model.compile(loss=keras.losses.categorical_crossentropy,\n",
    "              optimizer=keras.optimizers.Adadelta(),\n",
    "              metrics=['accuracy'])"
   ]
  },
  {
   "cell_type": "markdown",
   "metadata": {},
   "source": [
    "<h3> Training the model </h3>"
   ]
  },
  {
   "cell_type": "code",
   "execution_count": 20,
   "metadata": {},
   "outputs": [
    {
     "name": "stderr",
     "output_type": "stream",
     "text": [
      "W0624 01:00:51.203433 60144 deprecation.py:323] From C:\\Users\\Reena\\Anaconda3\\lib\\site-packages\\tensorflow\\python\\ops\\math_grad.py:1250: add_dispatch_support.<locals>.wrapper (from tensorflow.python.ops.array_ops) is deprecated and will be removed in a future version.\n",
      "Instructions for updating:\n",
      "Use tf.where in 2.0, which has the same broadcast rule as np.where\n",
      "W0624 01:00:51.469072 60144 deprecation_wrapper.py:119] From C:\\Users\\Reena\\Anaconda3\\lib\\site-packages\\keras\\backend\\tensorflow_backend.py:986: The name tf.assign_add is deprecated. Please use tf.compat.v1.assign_add instead.\n",
      "\n"
     ]
    },
    {
     "name": "stdout",
     "output_type": "stream",
     "text": [
      "Train on 45000 samples, validate on 15000 samples\n",
      "Epoch 1/100\n",
      "45000/45000 [==============================] - 34s 749us/step - loss: 0.8545 - acc: 0.6894 - val_loss: 0.5643 - val_acc: 0.8029\n",
      "Epoch 2/100\n",
      "45000/45000 [==============================] - 13s 287us/step - loss: 0.5265 - acc: 0.8032 - val_loss: 0.4963 - val_acc: 0.8194\n",
      "Epoch 3/100\n",
      "45000/45000 [==============================] - 14s 316us/step - loss: 0.4508 - acc: 0.8319 - val_loss: 0.4491 - val_acc: 0.8388\n",
      "Epoch 4/100\n",
      "45000/45000 [==============================] - 14s 302us/step - loss: 0.4198 - acc: 0.8431 - val_loss: 0.3783 - val_acc: 0.8601\n",
      "Epoch 5/100\n",
      "45000/45000 [==============================] - 14s 306us/step - loss: 0.3776 - acc: 0.8568 - val_loss: 0.3937 - val_acc: 0.8539\n",
      "Epoch 6/100\n",
      "45000/45000 [==============================] - 14s 313us/step - loss: 0.3630 - acc: 0.8641 - val_loss: 0.4903 - val_acc: 0.8413\n",
      "Epoch 7/100\n",
      "45000/45000 [==============================] - 13s 278us/step - loss: 0.3389 - acc: 0.8713 - val_loss: 0.3475 - val_acc: 0.8740\n",
      "Epoch 8/100\n",
      "45000/45000 [==============================] - 14s 316us/step - loss: 0.3328 - acc: 0.8746 - val_loss: 0.3517 - val_acc: 0.8752\n",
      "Epoch 9/100\n",
      "45000/45000 [==============================] - 14s 317us/step - loss: 0.3056 - acc: 0.8846 - val_loss: 0.3264 - val_acc: 0.8830\n",
      "Epoch 10/100\n",
      "45000/45000 [==============================] - 13s 287us/step - loss: 0.3001 - acc: 0.8863 - val_loss: 0.3874 - val_acc: 0.8566\n",
      "Epoch 11/100\n",
      "45000/45000 [==============================] - 13s 287us/step - loss: 0.2877 - acc: 0.8915 - val_loss: 0.3402 - val_acc: 0.8737\n",
      "Epoch 12/100\n",
      "45000/45000 [==============================] - 13s 291us/step - loss: 0.2756 - acc: 0.8952 - val_loss: 0.3378 - val_acc: 0.8777\n",
      "Epoch 13/100\n",
      "45000/45000 [==============================] - 13s 282us/step - loss: 0.2749 - acc: 0.8957 - val_loss: 0.3071 - val_acc: 0.8895\n",
      "Epoch 14/100\n",
      "45000/45000 [==============================] - 13s 279us/step - loss: 0.2513 - acc: 0.9037 - val_loss: 0.3653 - val_acc: 0.8663\n",
      "Epoch 15/100\n",
      "45000/45000 [==============================] - 12s 277us/step - loss: 0.2524 - acc: 0.9039 - val_loss: 0.3265 - val_acc: 0.8841\n",
      "Epoch 16/100\n",
      "45000/45000 [==============================] - 13s 286us/step - loss: 0.2505 - acc: 0.9068 - val_loss: 0.2900 - val_acc: 0.8961\n",
      "Epoch 17/100\n",
      "45000/45000 [==============================] - 13s 283us/step - loss: 0.2233 - acc: 0.9145 - val_loss: 0.3051 - val_acc: 0.8911\n",
      "Epoch 18/100\n",
      "45000/45000 [==============================] - 13s 292us/step - loss: 0.2259 - acc: 0.9136 - val_loss: 0.3250 - val_acc: 0.8850\n",
      "Epoch 19/100\n",
      "45000/45000 [==============================] - 14s 316us/step - loss: 0.2159 - acc: 0.9166 - val_loss: 0.3446 - val_acc: 0.8779\n",
      "Epoch 20/100\n",
      "45000/45000 [==============================] - 14s 307us/step - loss: 0.2156 - acc: 0.9178 - val_loss: 0.3285 - val_acc: 0.8831\n",
      "Epoch 21/100\n",
      "45000/45000 [==============================] - 13s 281us/step - loss: 0.2123 - acc: 0.9198 - val_loss: 0.2910 - val_acc: 0.8981\n",
      "Epoch 22/100\n",
      "45000/45000 [==============================] - 14s 314us/step - loss: 0.1951 - acc: 0.9253 - val_loss: 0.3499 - val_acc: 0.8830\n",
      "Epoch 23/100\n",
      "45000/45000 [==============================] - 14s 303us/step - loss: 0.1927 - acc: 0.9262 - val_loss: 0.3000 - val_acc: 0.8951\n",
      "Epoch 24/100\n",
      "45000/45000 [==============================] - 13s 283us/step - loss: 0.1843 - acc: 0.9292 - val_loss: 0.3542 - val_acc: 0.8773\n",
      "Epoch 25/100\n",
      "45000/45000 [==============================] - 13s 289us/step - loss: 0.1773 - acc: 0.9320 - val_loss: 0.3107 - val_acc: 0.8961\n",
      "Epoch 26/100\n",
      "45000/45000 [==============================] - 13s 293us/step - loss: 0.1725 - acc: 0.9329 - val_loss: 0.3116 - val_acc: 0.8983\n",
      "Epoch 27/100\n",
      "45000/45000 [==============================] - 13s 294us/step - loss: 0.1720 - acc: 0.9344 - val_loss: 0.3751 - val_acc: 0.8783\n",
      "Epoch 28/100\n",
      "45000/45000 [==============================] - 14s 312us/step - loss: 0.1662 - acc: 0.9354 - val_loss: 0.3081 - val_acc: 0.8963\n",
      "Epoch 29/100\n",
      "45000/45000 [==============================] - 14s 306us/step - loss: 0.1921 - acc: 0.9330 - val_loss: 0.3202 - val_acc: 0.8960\n",
      "Epoch 30/100\n",
      "45000/45000 [==============================] - 14s 312us/step - loss: 0.1489 - acc: 0.9429 - val_loss: 0.3446 - val_acc: 0.8904\n",
      "Epoch 31/100\n",
      "45000/45000 [==============================] - 15s 331us/step - loss: 0.1493 - acc: 0.9431 - val_loss: 0.3306 - val_acc: 0.8952\n",
      "Epoch 32/100\n",
      "45000/45000 [==============================] - 15s 332us/step - loss: 0.1467 - acc: 0.9428 - val_loss: 0.3114 - val_acc: 0.8970 0s - loss: 0.1469 - acc: 0.9\n",
      "Epoch 33/100\n",
      "45000/45000 [==============================] - 16s 364us/step - loss: 0.1405 - acc: 0.9469 - val_loss: 0.3343 - val_acc: 0.8928\n",
      "Epoch 34/100\n",
      "45000/45000 [==============================] - 16s 347us/step - loss: 0.1363 - acc: 0.9469 - val_loss: 0.3536 - val_acc: 0.8883\n",
      "Epoch 35/100\n",
      "45000/45000 [==============================] - 14s 301us/step - loss: 0.1322 - acc: 0.9485 - val_loss: 0.3456 - val_acc: 0.8925\n",
      "Epoch 36/100\n",
      "45000/45000 [==============================] - 12s 276us/step - loss: 0.1336 - acc: 0.9507 - val_loss: 0.3286 - val_acc: 0.9028\n",
      "Epoch 37/100\n",
      "45000/45000 [==============================] - 13s 294us/step - loss: 0.1320 - acc: 0.9505 - val_loss: 0.3260 - val_acc: 0.9005\n",
      "Epoch 38/100\n",
      "45000/45000 [==============================] - 12s 258us/step - loss: 0.1091 - acc: 0.9588 - val_loss: 0.3774 - val_acc: 0.8903\n",
      "Epoch 39/100\n",
      "45000/45000 [==============================] - 13s 286us/step - loss: 0.1167 - acc: 0.9554 - val_loss: 0.3627 - val_acc: 0.8959\n",
      "Epoch 40/100\n",
      "45000/45000 [==============================] - 17s 371us/step - loss: 0.1232 - acc: 0.9543 - val_loss: 0.3441 - val_acc: 0.8949\n",
      "Epoch 41/100\n",
      "45000/45000 [==============================] - 13s 299us/step - loss: 0.1130 - acc: 0.9568 - val_loss: 0.3548 - val_acc: 0.8985\n",
      "Epoch 42/100\n",
      "45000/45000 [==============================] - 16s 345us/step - loss: 0.1025 - acc: 0.9605 - val_loss: 0.4050 - val_acc: 0.8797\n",
      "Epoch 43/100\n",
      "45000/45000 [==============================] - 14s 319us/step - loss: 0.0967 - acc: 0.9633 - val_loss: 0.3753 - val_acc: 0.8969\n",
      "Epoch 44/100\n",
      "45000/45000 [==============================] - 13s 284us/step - loss: 0.0969 - acc: 0.9619 - val_loss: 0.3708 - val_acc: 0.9019\n",
      "Epoch 45/100\n",
      "45000/45000 [==============================] - 13s 289us/step - loss: 0.0939 - acc: 0.9638 - val_loss: 0.3961 - val_acc: 0.8958\n",
      "Epoch 46/100\n",
      "45000/45000 [==============================] - 13s 291us/step - loss: 0.0976 - acc: 0.9640 - val_loss: 0.3867 - val_acc: 0.8936\n",
      "Epoch 47/100\n",
      "45000/45000 [==============================] - 14s 316us/step - loss: 0.0923 - acc: 0.9647 - val_loss: 0.3535 - val_acc: 0.9012\n",
      "Epoch 48/100\n",
      "45000/45000 [==============================] - 16s 347us/step - loss: 0.0888 - acc: 0.9663 - val_loss: 0.4014 - val_acc: 0.8980\n",
      "Epoch 49/100\n",
      "45000/45000 [==============================] - 14s 307us/step - loss: 0.0848 - acc: 0.9682 - val_loss: 0.4167 - val_acc: 0.8943\n",
      "Epoch 50/100\n",
      "45000/45000 [==============================] - 15s 331us/step - loss: 0.0751 - acc: 0.9713 - val_loss: 0.4634 - val_acc: 0.8896\n",
      "Epoch 51/100\n",
      "45000/45000 [==============================] - 14s 315us/step - loss: 0.0796 - acc: 0.9706 - val_loss: 0.4277 - val_acc: 0.8873\n",
      "Epoch 52/100\n",
      "45000/45000 [==============================] - 14s 312us/step - loss: 0.0820 - acc: 0.9684 - val_loss: 0.3794 - val_acc: 0.9033\n",
      "Epoch 53/100\n",
      "45000/45000 [==============================] - 13s 298us/step - loss: 0.0718 - acc: 0.9724 - val_loss: 0.3920 - val_acc: 0.9053\n",
      "Epoch 54/100\n",
      "45000/45000 [==============================] - 14s 304us/step - loss: 0.0733 - acc: 0.9731 - val_loss: 0.4034 - val_acc: 0.9027\n",
      "Epoch 55/100\n",
      "45000/45000 [==============================] - 15s 331us/step - loss: 0.0693 - acc: 0.9731 - val_loss: 0.4577 - val_acc: 0.8795\n",
      "Epoch 56/100\n",
      "45000/45000 [==============================] - 14s 317us/step - loss: 0.0642 - acc: 0.9752 - val_loss: 0.5059 - val_acc: 0.8832\n",
      "Epoch 57/100\n",
      "45000/45000 [==============================] - 15s 336us/step - loss: 0.0665 - acc: 0.9746 - val_loss: 0.4386 - val_acc: 0.9026\n",
      "Epoch 58/100\n"
     ]
    },
    {
     "name": "stdout",
     "output_type": "stream",
     "text": [
      "45000/45000 [==============================] - 14s 307us/step - loss: 0.0690 - acc: 0.9740 - val_loss: 0.4798 - val_acc: 0.8923\n",
      "Epoch 59/100\n",
      "45000/45000 [==============================] - 13s 289us/step - loss: 0.0505 - acc: 0.9810 - val_loss: 0.4364 - val_acc: 0.9009\n",
      "Epoch 60/100\n",
      "45000/45000 [==============================] - 14s 314us/step - loss: 0.0571 - acc: 0.9784 - val_loss: 0.5527 - val_acc: 0.8833\n",
      "Epoch 61/100\n",
      "45000/45000 [==============================] - 14s 314us/step - loss: 0.0698 - acc: 0.9746 - val_loss: 0.4348 - val_acc: 0.9058\n",
      "Epoch 62/100\n",
      "45000/45000 [==============================] - 13s 291us/step - loss: 0.0526 - acc: 0.9814 - val_loss: 0.4543 - val_acc: 0.8939\n",
      "Epoch 63/100\n",
      "45000/45000 [==============================] - 12s 274us/step - loss: 0.0536 - acc: 0.9807 - val_loss: 0.4801 - val_acc: 0.8993\n",
      "Epoch 64/100\n",
      "45000/45000 [==============================] - 13s 293us/step - loss: 0.0578 - acc: 0.9791 - val_loss: 0.4644 - val_acc: 0.8994\n",
      "Epoch 65/100\n",
      "45000/45000 [==============================] - 13s 282us/step - loss: 0.0616 - acc: 0.9792 - val_loss: 0.4430 - val_acc: 0.9043\n",
      "Epoch 66/100\n",
      "45000/45000 [==============================] - 14s 300us/step - loss: 0.0444 - acc: 0.9844 - val_loss: 0.4561 - val_acc: 0.9019\n",
      "Epoch 67/100\n",
      "45000/45000 [==============================] - 13s 297us/step - loss: 0.0409 - acc: 0.9853 - val_loss: 0.5052 - val_acc: 0.8920\n",
      "Epoch 68/100\n",
      "45000/45000 [==============================] - 14s 302us/step - loss: 0.0718 - acc: 0.9754 - val_loss: 0.4354 - val_acc: 0.9059\n",
      "Epoch 69/100\n",
      "45000/45000 [==============================] - 14s 304us/step - loss: 0.0362 - acc: 0.9869 - val_loss: 0.4732 - val_acc: 0.9029\n",
      "Epoch 70/100\n",
      "45000/45000 [==============================] - 13s 294us/step - loss: 0.0342 - acc: 0.9878 - val_loss: 0.4752 - val_acc: 0.9063\n",
      "Epoch 71/100\n",
      "45000/45000 [==============================] - 15s 327us/step - loss: 0.0455 - acc: 0.9834 - val_loss: 0.5414 - val_acc: 0.8722\n",
      "Epoch 72/100\n",
      "45000/45000 [==============================] - 13s 299us/step - loss: 0.0371 - acc: 0.9867 - val_loss: 0.5033 - val_acc: 0.9001\n",
      "Epoch 73/100\n",
      "45000/45000 [==============================] - 13s 298us/step - loss: 0.0433 - acc: 0.9857 - val_loss: 0.4703 - val_acc: 0.9038\n",
      "Epoch 74/100\n",
      "45000/45000 [==============================] - 14s 317us/step - loss: 0.0344 - acc: 0.9882 - val_loss: 0.5615 - val_acc: 0.8916\n",
      "Epoch 75/100\n",
      "45000/45000 [==============================] - 16s 346us/step - loss: 0.0289 - acc: 0.9901 - val_loss: 0.4891 - val_acc: 0.9039\n",
      "Epoch 76/100\n",
      "45000/45000 [==============================] - 13s 299us/step - loss: 0.0492 - acc: 0.9828 - val_loss: 0.4823 - val_acc: 0.9052\n",
      "Epoch 77/100\n",
      "45000/45000 [==============================] - 14s 310us/step - loss: 0.0347 - acc: 0.9883 - val_loss: 0.4982 - val_acc: 0.9021\n",
      "Epoch 78/100\n",
      "45000/45000 [==============================] - 13s 295us/step - loss: 0.0268 - acc: 0.9902 - val_loss: 0.5145 - val_acc: 0.8984\n",
      "Epoch 79/100\n",
      "45000/45000 [==============================] - 15s 323us/step - loss: 0.0411 - acc: 0.9862 - val_loss: 0.5019 - val_acc: 0.9045\n",
      "Epoch 80/100\n",
      "45000/45000 [==============================] - 14s 313us/step - loss: 0.0197 - acc: 0.9939 - val_loss: 0.5389 - val_acc: 0.9055\n",
      "Epoch 81/100\n",
      "45000/45000 [==============================] - 12s 276us/step - loss: 0.0553 - acc: 0.9842 - val_loss: 0.5205 - val_acc: 0.9033\n",
      "Epoch 82/100\n",
      "45000/45000 [==============================] - 12s 274us/step - loss: 0.0311 - acc: 0.9900 - val_loss: 0.5081 - val_acc: 0.9068\n",
      "Epoch 83/100\n",
      "45000/45000 [==============================] - 12s 272us/step - loss: 0.0259 - acc: 0.9917 - val_loss: 0.5920 - val_acc: 0.8834\n",
      "Epoch 84/100\n",
      "45000/45000 [==============================] - 12s 273us/step - loss: 0.0245 - acc: 0.9924 - val_loss: 0.5535 - val_acc: 0.9034\n",
      "Epoch 85/100\n",
      "45000/45000 [==============================] - 13s 285us/step - loss: 0.0592 - acc: 0.9843 - val_loss: 0.4926 - val_acc: 0.9015\n",
      "Epoch 86/100\n",
      "45000/45000 [==============================] - 13s 278us/step - loss: 0.0158 - acc: 0.9954 - val_loss: 0.5284 - val_acc: 0.9065\n",
      "Epoch 87/100\n",
      "45000/45000 [==============================] - 12s 273us/step - loss: 0.0244 - acc: 0.9920 - val_loss: 0.5382 - val_acc: 0.9038\n",
      "Epoch 88/100\n",
      "45000/45000 [==============================] - 13s 297us/step - loss: 0.0229 - acc: 0.9924 - val_loss: 0.5763 - val_acc: 0.8905\n",
      "Epoch 89/100\n",
      "45000/45000 [==============================] - 13s 286us/step - loss: 0.0412 - acc: 0.9896 - val_loss: 0.5461 - val_acc: 0.9051\n",
      "Epoch 90/100\n",
      "45000/45000 [==============================] - 13s 279us/step - loss: 0.0144 - acc: 0.9956 - val_loss: 0.5669 - val_acc: 0.9001\n",
      "Epoch 91/100\n",
      "45000/45000 [==============================] - 12s 275us/step - loss: 0.0535 - acc: 0.9848 - val_loss: 0.5371 - val_acc: 0.9070\n",
      "Epoch 92/100\n",
      "45000/45000 [==============================] - 12s 274us/step - loss: 0.0368 - acc: 0.9901 - val_loss: 0.5372 - val_acc: 0.9061\n",
      "Epoch 93/100\n",
      "45000/45000 [==============================] - 12s 270us/step - loss: 0.0104 - acc: 0.9970 - val_loss: 0.5815 - val_acc: 0.9062\n",
      "Epoch 94/100\n",
      "45000/45000 [==============================] - 13s 288us/step - loss: 0.0526 - acc: 0.9845 - val_loss: 0.5222 - val_acc: 0.9051\n",
      "Epoch 95/100\n",
      "45000/45000 [==============================] - 14s 302us/step - loss: 0.0088 - acc: 0.9976 - val_loss: 0.6358 - val_acc: 0.8972\n",
      "Epoch 96/100\n",
      "45000/45000 [==============================] - 15s 333us/step - loss: 0.0285 - acc: 0.9912 - val_loss: 0.5638 - val_acc: 0.9066\n",
      "Epoch 97/100\n",
      "45000/45000 [==============================] - 14s 319us/step - loss: 0.0194 - acc: 0.9942 - val_loss: 0.5535 - val_acc: 0.9067\n",
      "Epoch 98/100\n",
      "45000/45000 [==============================] - 14s 315us/step - loss: 0.0433 - acc: 0.9874 - val_loss: 0.5133 - val_acc: 0.9032\n",
      "Epoch 99/100\n",
      "45000/45000 [==============================] - 13s 292us/step - loss: 0.0102 - acc: 0.9976 - val_loss: 0.5776 - val_acc: 0.9048\n",
      "Epoch 100/100\n",
      "45000/45000 [==============================] - 13s 292us/step - loss: 0.0349 - acc: 0.9907 - val_loss: 0.5711 - val_acc: 0.9060\n"
     ]
    }
   ],
   "source": [
    "model.fit(X_train, y_train,\n",
    "          batch_size=batch_size,\n",
    "          epochs=epochs,\n",
    "          verbose=1,\n",
    "          validation_data=(X_test, y_test))\n",
    "\n",
    "score = model.evaluate(X_test, y_test, verbose=0)\n"
   ]
  },
  {
   "cell_type": "code",
   "execution_count": 21,
   "metadata": {},
   "outputs": [
    {
     "name": "stdout",
     "output_type": "stream",
     "text": [
      "In Sequential Model: \n",
      "\n",
      "Test loss: 0.571075486091439\n",
      "Test accuracy: 0.906\n"
     ]
    }
   ],
   "source": [
    "print(\"In Sequential Model: \\n\")\n",
    "print('Test loss:', score[0])\n",
    "print('Test accuracy:', score[1])"
   ]
  },
  {
   "cell_type": "markdown",
   "metadata": {},
   "source": [
    "<h2> 5.Building the Sequential model  and adding Convolution 2D Layers </h2>"
   ]
  },
  {
   "cell_type": "code",
   "execution_count": 22,
   "metadata": {},
   "outputs": [],
   "source": [
    "batch_size = 256\n",
    "epochs = 50"
   ]
  },
  {
   "cell_type": "code",
   "execution_count": 23,
   "metadata": {},
   "outputs": [],
   "source": [
    "X_train = X_train.reshape(-1,28, 28, 1)   #Reshape for CNN (requires 4 parameters)\n",
    "X_test = X_test.reshape(-1,28, 28, 1)\n"
   ]
  },
  {
   "cell_type": "code",
   "execution_count": 24,
   "metadata": {},
   "outputs": [
    {
     "name": "stderr",
     "output_type": "stream",
     "text": [
      "W0624 01:26:45.564401 60144 deprecation_wrapper.py:119] From C:\\Users\\Reena\\Anaconda3\\lib\\site-packages\\keras\\backend\\tensorflow_backend.py:3976: The name tf.nn.max_pool is deprecated. Please use tf.nn.max_pool2d instead.\n",
      "\n",
      "W0624 01:26:45.673769 60144 deprecation.py:506] From C:\\Users\\Reena\\Anaconda3\\lib\\site-packages\\keras\\backend\\tensorflow_backend.py:3445: calling dropout (from tensorflow.python.ops.nn_ops) with keep_prob is deprecated and will be removed in a future version.\n",
      "Instructions for updating:\n",
      "Please use `rate` instead of `keep_prob`. Rate should be set to `rate = 1 - keep_prob`.\n"
     ]
    }
   ],
   "source": [
    "model = Sequential()\n",
    "\n",
    "#using 'relu() activation function on all layers, beacause here it is more optimal than others like sigmoid etc.'\n",
    "\n",
    "#Layer-1 Input Layer\n",
    "model.add(Conv2D(32, kernel_size=(3, 3),\n",
    "                 activation='relu',\n",
    "                 kernel_initializer='he_normal',\n",
    "                 input_shape=input_shape))\n",
    "model.add(MaxPooling2D((2, 2)))\n",
    "model.add(Dropout(0.25))\n",
    "\n",
    "#Layer-2 Hidden Layer1\n",
    "model.add(Conv2D(64, (3, 3), activation='relu'))\n",
    "model.add(MaxPooling2D(pool_size=(2, 2)))\n",
    "model.add(Dropout(0.25))\n",
    "\n",
    "#Layer-3 Hidden Layer2\n",
    "model.add(Conv2D(128, (3, 3), activation='relu'))\n",
    "model.add(Dropout(0.4))\n",
    "model.add(Flatten())\n",
    "model.add(Dense(128, activation='relu'))\n",
    "model.add(Dropout(0.3))\n",
    "\n",
    "#Layer-4 Ouptput Layer\n",
    "model.add(Dense(num_classes, activation='softmax'))\n",
    "\n",
    "model.compile(loss=keras.losses.categorical_crossentropy,\n",
    "              optimizer=keras.optimizers.Adam(),\n",
    "              metrics=['accuracy'])\n",
    "#model.summary()"
   ]
  },
  {
   "cell_type": "markdown",
   "metadata": {},
   "source": [
    "<h3>  Training the Model </h3>"
   ]
  },
  {
   "cell_type": "code",
   "execution_count": 26,
   "metadata": {},
   "outputs": [
    {
     "name": "stdout",
     "output_type": "stream",
     "text": [
      "Train on 45000 samples, validate on 15000 samples\n",
      "Epoch 1/50\n",
      "45000/45000 [==============================] - 86s 2ms/step - loss: 0.8536 - acc: 0.6832 - val_loss: 0.5201 - val_acc: 0.8128\n",
      "Epoch 2/50\n",
      "45000/45000 [==============================] - 73s 2ms/step - loss: 0.5167 - acc: 0.8071 - val_loss: 0.4181 - val_acc: 0.8453\n",
      "Epoch 3/50\n",
      "45000/45000 [==============================] - 78s 2ms/step - loss: 0.4429 - acc: 0.8366 - val_loss: 0.3763 - val_acc: 0.8597\n",
      "Epoch 4/50\n",
      "45000/45000 [==============================] - 76s 2ms/step - loss: 0.3987 - acc: 0.8548 - val_loss: 0.3321 - val_acc: 0.8770\n",
      "Epoch 5/50\n",
      "45000/45000 [==============================] - 76s 2ms/step - loss: 0.3662 - acc: 0.8658 - val_loss: 0.3099 - val_acc: 0.8861\n",
      "Epoch 6/50\n",
      "45000/45000 [==============================] - 75s 2ms/step - loss: 0.3476 - acc: 0.8720 - val_loss: 0.2984 - val_acc: 0.8900\n",
      "Epoch 7/50\n",
      "45000/45000 [==============================] - 76s 2ms/step - loss: 0.3288 - acc: 0.8815 - val_loss: 0.2867 - val_acc: 0.8941\n",
      "Epoch 8/50\n",
      "45000/45000 [==============================] - 81s 2ms/step - loss: 0.3165 - acc: 0.8834 - val_loss: 0.2811 - val_acc: 0.8958\n",
      "Epoch 9/50\n",
      "45000/45000 [==============================] - 82s 2ms/step - loss: 0.3058 - acc: 0.8872 - val_loss: 0.2663 - val_acc: 0.9040\n",
      "Epoch 10/50\n",
      "45000/45000 [==============================] - 74s 2ms/step - loss: 0.2963 - acc: 0.8915 - val_loss: 0.2618 - val_acc: 0.9056\n",
      "Epoch 11/50\n",
      "45000/45000 [==============================] - 75s 2ms/step - loss: 0.2847 - acc: 0.8942 - val_loss: 0.2547 - val_acc: 0.9090\n",
      "Epoch 12/50\n",
      "45000/45000 [==============================] - 81s 2ms/step - loss: 0.2791 - acc: 0.8971 - val_loss: 0.2472 - val_acc: 0.9087\n",
      "Epoch 13/50\n",
      "45000/45000 [==============================] - 86s 2ms/step - loss: 0.2747 - acc: 0.8976 - val_loss: 0.2476 - val_acc: 0.9085\n",
      "Epoch 14/50\n",
      "45000/45000 [==============================] - 76s 2ms/step - loss: 0.2702 - acc: 0.9002 - val_loss: 0.2505 - val_acc: 0.9087\n",
      "Epoch 15/50\n",
      "45000/45000 [==============================] - 75s 2ms/step - loss: 0.2630 - acc: 0.9036 - val_loss: 0.2376 - val_acc: 0.9113\n",
      "Epoch 16/50\n",
      "45000/45000 [==============================] - 78s 2ms/step - loss: 0.2564 - acc: 0.9030 - val_loss: 0.2357 - val_acc: 0.9149\n",
      "Epoch 17/50\n",
      "45000/45000 [==============================] - 74s 2ms/step - loss: 0.2531 - acc: 0.9048 - val_loss: 0.2415 - val_acc: 0.9125\n",
      "Epoch 18/50\n",
      "45000/45000 [==============================] - 76s 2ms/step - loss: 0.2506 - acc: 0.9075 - val_loss: 0.2352 - val_acc: 0.9135\n",
      "Epoch 19/50\n",
      "45000/45000 [==============================] - 74s 2ms/step - loss: 0.2433 - acc: 0.9072 - val_loss: 0.2311 - val_acc: 0.9155\n",
      "Epoch 20/50\n",
      "45000/45000 [==============================] - 80s 2ms/step - loss: 0.2386 - acc: 0.9109 - val_loss: 0.2297 - val_acc: 0.9144\n",
      "Epoch 21/50\n",
      "45000/45000 [==============================] - 81s 2ms/step - loss: 0.2373 - acc: 0.9112 - val_loss: 0.2238 - val_acc: 0.9194\n",
      "Epoch 22/50\n",
      "45000/45000 [==============================] - 86s 2ms/step - loss: 0.2360 - acc: 0.9116 - val_loss: 0.2255 - val_acc: 0.9193\n",
      "Epoch 23/50\n",
      "45000/45000 [==============================] - 101s 2ms/step - loss: 0.2340 - acc: 0.9141 - val_loss: 0.2266 - val_acc: 0.9162\n",
      "Epoch 24/50\n",
      "45000/45000 [==============================] - 88s 2ms/step - loss: 0.2293 - acc: 0.9136 - val_loss: 0.2243 - val_acc: 0.9179\n",
      "Epoch 25/50\n",
      "45000/45000 [==============================] - 75s 2ms/step - loss: 0.2236 - acc: 0.9161 - val_loss: 0.2246 - val_acc: 0.9179\n",
      "Epoch 26/50\n",
      "45000/45000 [==============================] - 77s 2ms/step - loss: 0.2227 - acc: 0.9156 - val_loss: 0.2228 - val_acc: 0.9197\n",
      "Epoch 27/50\n",
      "45000/45000 [==============================] - 77s 2ms/step - loss: 0.2170 - acc: 0.9179 - val_loss: 0.2242 - val_acc: 0.9175\n",
      "Epoch 28/50\n",
      "45000/45000 [==============================] - 74s 2ms/step - loss: 0.2211 - acc: 0.9180 - val_loss: 0.2198 - val_acc: 0.9185\n",
      "Epoch 29/50\n",
      "45000/45000 [==============================] - 75s 2ms/step - loss: 0.2118 - acc: 0.9189 - val_loss: 0.2196 - val_acc: 0.9186\n",
      "Epoch 30/50\n",
      "45000/45000 [==============================] - 81s 2ms/step - loss: 0.2163 - acc: 0.9189 - val_loss: 0.2184 - val_acc: 0.9196\n",
      "Epoch 31/50\n",
      "45000/45000 [==============================] - 84s 2ms/step - loss: 0.2109 - acc: 0.9215 - val_loss: 0.2201 - val_acc: 0.9190\n",
      "Epoch 32/50\n",
      "45000/45000 [==============================] - 87s 2ms/step - loss: 0.2086 - acc: 0.9218 - val_loss: 0.2206 - val_acc: 0.9209\n",
      "Epoch 33/50\n",
      "45000/45000 [==============================] - 71s 2ms/step - loss: 0.2049 - acc: 0.9229 - val_loss: 0.2254 - val_acc: 0.9176\n",
      "Epoch 34/50\n",
      "45000/45000 [==============================] - 76s 2ms/step - loss: 0.2014 - acc: 0.9239 - val_loss: 0.2222 - val_acc: 0.9187\n",
      "Epoch 35/50\n",
      "45000/45000 [==============================] - 79s 2ms/step - loss: 0.2033 - acc: 0.9239 - val_loss: 0.2167 - val_acc: 0.9217\n",
      "Epoch 36/50\n",
      "45000/45000 [==============================] - 74s 2ms/step - loss: 0.2063 - acc: 0.9211 - val_loss: 0.2170 - val_acc: 0.9207\n",
      "Epoch 37/50\n",
      "45000/45000 [==============================] - 75s 2ms/step - loss: 0.2001 - acc: 0.9242 - val_loss: 0.2146 - val_acc: 0.9235\n",
      "Epoch 38/50\n",
      "45000/45000 [==============================] - 74s 2ms/step - loss: 0.1960 - acc: 0.9249 - val_loss: 0.2200 - val_acc: 0.9233\n",
      "Epoch 39/50\n",
      "45000/45000 [==============================] - 76s 2ms/step - loss: 0.1966 - acc: 0.9255 - val_loss: 0.2144 - val_acc: 0.9238\n",
      "Epoch 40/50\n",
      "45000/45000 [==============================] - 73s 2ms/step - loss: 0.1938 - acc: 0.9261 - val_loss: 0.2153 - val_acc: 0.9243\n",
      "Epoch 41/50\n",
      "45000/45000 [==============================] - 75s 2ms/step - loss: 0.1926 - acc: 0.9259 - val_loss: 0.2164 - val_acc: 0.9239\n",
      "Epoch 42/50\n",
      "45000/45000 [==============================] - 78s 2ms/step - loss: 0.1930 - acc: 0.9274 - val_loss: 0.2120 - val_acc: 0.9237\n",
      "Epoch 43/50\n",
      "45000/45000 [==============================] - 82s 2ms/step - loss: 0.1886 - acc: 0.9276 - val_loss: 0.2125 - val_acc: 0.9245\n",
      "Epoch 44/50\n",
      "45000/45000 [==============================] - 96s 2ms/step - loss: 0.1902 - acc: 0.9268 - val_loss: 0.2146 - val_acc: 0.9236\n",
      "Epoch 45/50\n",
      "45000/45000 [==============================] - 90s 2ms/step - loss: 0.1836 - acc: 0.9308 - val_loss: 0.2201 - val_acc: 0.9219\n",
      "Epoch 46/50\n",
      "45000/45000 [==============================] - 78s 2ms/step - loss: 0.1865 - acc: 0.9298 - val_loss: 0.2186 - val_acc: 0.9245\n",
      "Epoch 47/50\n",
      "45000/45000 [==============================] - 79s 2ms/step - loss: 0.1849 - acc: 0.9301 - val_loss: 0.2141 - val_acc: 0.9226\n",
      "Epoch 48/50\n",
      "45000/45000 [==============================] - 76s 2ms/step - loss: 0.1833 - acc: 0.9300 - val_loss: 0.2137 - val_acc: 0.9252\n",
      "Epoch 49/50\n",
      "45000/45000 [==============================] - 79s 2ms/step - loss: 0.1871 - acc: 0.9284 - val_loss: 0.2155 - val_acc: 0.9239\n",
      "Epoch 50/50\n",
      "45000/45000 [==============================] - 75s 2ms/step - loss: 0.1841 - acc: 0.9296 - val_loss: 0.2142 - val_acc: 0.9237\n"
     ]
    }
   ],
   "source": [
    "# Fit() returns a history object which we can use to plot the graphs for the validation accuracy and validation loss \n",
    "\n",
    "history = model.fit(X_train, y_train,\n",
    "          batch_size=batch_size,\n",
    "          epochs=epochs,\n",
    "          verbose=1,\n",
    "          validation_data=(X_test, y_test))\n",
    "score = model.evaluate(X_test, y_test, verbose=0)"
   ]
  },
  {
   "cell_type": "code",
   "execution_count": 27,
   "metadata": {},
   "outputs": [
    {
     "name": "stdout",
     "output_type": "stream",
     "text": [
      "Test loss: 0.21422297887007397\n",
      "Test accuracy: 0.9237333333333333\n"
     ]
    }
   ],
   "source": [
    "print('Test loss:', score[0])\n",
    "print('Test accuracy:', score[1])"
   ]
  },
  {
   "cell_type": "code",
   "execution_count": 30,
   "metadata": {},
   "outputs": [],
   "source": [
    "#y_test"
   ]
  },
  {
   "cell_type": "code",
   "execution_count": 29,
   "metadata": {},
   "outputs": [
    {
     "data": {
      "text/plain": [
       "array([2, 7, 5, ..., 5, 9, 3], dtype=int64)"
      ]
     },
     "execution_count": 29,
     "metadata": {},
     "output_type": "execute_result"
    }
   ],
   "source": [
    "pred_y = model.predict_classes(X_test)\n",
    "pred_y"
   ]
  },
  {
   "cell_type": "markdown",
   "metadata": {},
   "source": [
    "<h2> As we can see here if we add conv2D layers(to handle 2D images data) to the sequential model,the accuracy of the model increases.So now we use this model with conv2D layers to predict values for testX data.</h2> "
   ]
  },
  {
   "cell_type": "markdown",
   "metadata": {},
   "source": [
    "<h2> </h2>"
   ]
  },
  {
   "cell_type": "markdown",
   "metadata": {},
   "source": [
    "<h1> 7. Loading the testing pickle file </h1>"
   ]
  },
  {
   "cell_type": "code",
   "execution_count": 31,
   "metadata": {},
   "outputs": [
    {
     "data": {
      "text/plain": [
       "(10000, 28, 28)"
      ]
     },
     "execution_count": 31,
     "metadata": {},
     "output_type": "execute_result"
    }
   ],
   "source": [
    "with open(\"testX.pickle\",\"rb\") as pickle_in:\n",
    "    test_X = pickle.load(pickle_in)\n",
    "test_X.shape"
   ]
  },
  {
   "cell_type": "code",
   "execution_count": 32,
   "metadata": {},
   "outputs": [
    {
     "data": {
      "text/plain": [
       "(10000, 28, 28, 1)"
      ]
     },
     "execution_count": 32,
     "metadata": {},
     "output_type": "execute_result"
    }
   ],
   "source": [
    "test_X=test_X.reshape(test_X.shape[0],img_rows,img_cols,1)\n",
    "\n",
    "test_X = test_X.astype('float32')\n",
    "test_X /= 255\n",
    "test_X.shape"
   ]
  },
  {
   "cell_type": "markdown",
   "metadata": {},
   "source": [
    "<h2>8. Predicting the classes(0-9) for the testX dataset </h2>"
   ]
  },
  {
   "cell_type": "code",
   "execution_count": 33,
   "metadata": {},
   "outputs": [
    {
     "data": {
      "text/plain": [
       "array([9, 2, 1, ..., 8, 1, 5], dtype=int64)"
      ]
     },
     "execution_count": 33,
     "metadata": {},
     "output_type": "execute_result"
    }
   ],
   "source": [
    "y_pred_class = model.predict_classes(test_X)\n",
    "y_pred_class"
   ]
  },
  {
   "cell_type": "markdown",
   "metadata": {},
   "source": [
    "<h2> 9. Showing the testX images with their corresponding predicted classes </h2>"
   ]
  },
  {
   "cell_type": "code",
   "execution_count": 36,
   "metadata": {},
   "outputs": [
    {
     "name": "stdout",
     "output_type": "stream",
     "text": [
      "\n",
      "Image at 0th index\n",
      "Predicted class :  9\n"
     ]
    },
    {
     "data": {
      "image/png": "[encoded data removed]",
      "text/plain": [
       "<Figure size 432x288 with 1 Axes>"
      ]
     },
     "metadata": {},
     "output_type": "display_data"
    },
    {
     "name": "stdout",
     "output_type": "stream",
     "text": [
      "\n",
      "Image at 1th index\n",
      "Predicted class :  2\n"
     ]
    },
    {
     "data": {
      "image/png": "[encoded data removed]",
      "text/plain": [
       "<Figure size 432x288 with 1 Axes>"
      ]
     },
     "metadata": {},
     "output_type": "display_data"
    },
    {
     "name": "stdout",
     "output_type": "stream",
     "text": [
      "\n",
      "Image at 2th index\n",
      "Predicted class :  1\n"
     ]
    },
    {
     "data": {
      "image/png": "[encoded data removed]",
      "text/plain": [
       "<Figure size 432x288 with 1 Axes>"
      ]
     },
     "metadata": {},
     "output_type": "display_data"
    },
    {
     "name": "stdout",
     "output_type": "stream",
     "text": [
      "\n",
      "Image at 3th index\n",
      "Predicted class :  1\n"
     ]
    },
    {
     "data": {
      "image/png": "[encoded data removed]",
      "text/plain": [
       "<Figure size 432x288 with 1 Axes>"
      ]
     },
     "metadata": {},
     "output_type": "display_data"
    },
    {
     "name": "stdout",
     "output_type": "stream",
     "text": [
      "\n",
      "Image at 4th index\n",
      "Predicted class :  6\n"
     ]
    },
    {
     "data": {
      "image/png": "[encoded data removed]",
      "text/plain": [
       "<Figure size 432x288 with 1 Axes>"
      ]
     },
     "metadata": {},
     "output_type": "display_data"
    }
   ],
   "source": [
    "import matplotlib.pyplot as plt\n",
    "\n",
    "for i in range(0,5):\n",
    "    print(\"\\nImage at {}th index\".format(i))\n",
    "    plt.imshow(test_X[i].reshape(28,28))\n",
    "    print(\"Predicted class : \",y_pred_class[i])\n",
    "    plt.show()\n",
    "   "
   ]
  },
  {
   "cell_type": "markdown",
   "metadata": {},
   "source": [
    "<h2> 10. Writting the class values to the file </h2>"
   ]
  },
  {
   "cell_type": "code",
   "execution_count": 38,
   "metadata": {},
   "outputs": [],
   "source": [
    "with open('Reena_testY_pred_class.pickle', 'wb') as pickle_out:\n",
    "    pickle.dump(y_pred_class,pickle_out,0)\n",
    "pickle_out.close()    "
   ]
  },
  {
   "cell_type": "markdown",
   "metadata": {},
   "source": [
    "<h3> Reading the \"'Reena_testY_pred_class.pickle\" file </h3>"
   ]
  },
  {
   "cell_type": "code",
   "execution_count": 39,
   "metadata": {},
   "outputs": [
    {
     "data": {
      "text/plain": [
       "(10000,)"
      ]
     },
     "execution_count": 39,
     "metadata": {},
     "output_type": "execute_result"
    }
   ],
   "source": [
    "with open('Reena_testY_pred_class.pickle', 'rb') as pickle_in:\n",
    "    test_y=pickle.load(pickle_in)\n",
    "    \n",
    "test_y.shape"
   ]
  },
  {
   "cell_type": "markdown",
   "metadata": {},
   "source": [
    "<h2> 11. Plotting Training and validation Accuracy </h2>"
   ]
  },
  {
   "cell_type": "code",
   "execution_count": 40,
   "metadata": {},
   "outputs": [
    {
     "data": {
      "image/png": "[encoded data removed]",
      "text/plain": [
       "<Figure size 720x432 with 1 Axes>"
      ]
     },
     "metadata": {},
     "output_type": "display_data"
    }
   ],
   "source": [
    "import matplotlib.pyplot as plt\n",
    "%matplotlib inline\n",
    "accuracy = history.history['acc']\n",
    "val_accuracy = history.history['val_acc']\n",
    "loss = history.history['loss']\n",
    "val_loss = history.history['val_loss']\n",
    "epochs = range(len(accuracy))\n",
    "plt.figure(figsize=(10,6))\n",
    "plt.plot(epochs, accuracy, 'bo', label='Training accuracy')\n",
    "plt.plot(epochs, val_accuracy, 'b', label='Validation accuracy')\n",
    "plt.title('Training and validation accuracy')\n",
    "plt.legend()\n",
    "\n",
    "plt.show()"
   ]
  },
  {
   "cell_type": "markdown",
   "metadata": {},
   "source": [
    "<h2> 12. Plotting Training and validation Loss </h2>"
   ]
  },
  {
   "cell_type": "code",
   "execution_count": 41,
   "metadata": {},
   "outputs": [
    {
     "data": {
      "image/png": "[encoded data removed]",
      "text/plain": [
       "<Figure size 720x360 with 1 Axes>"
      ]
     },
     "metadata": {},
     "output_type": "display_data"
    }
   ],
   "source": [
    "plt.figure(figsize=(10,5))\n",
    "plt.plot(epochs, loss, 'bo', label='Training loss')\n",
    "plt.plot(epochs, val_loss, 'b', label='Validation loss')\n",
    "plt.title('Training and validation loss')\n",
    "plt.legend()\n",
    "plt.show()"
   ]
  },
  {
   "cell_type": "markdown",
   "metadata": {},
   "source": [
    "<h1> </h1>"
   ]
  },
  {
   "cell_type": "markdown",
   "metadata": {},
   "source": [
    "<h1> Let us see how accurate we can bulid a Machine Learning model on this dataset (Dataset of Fashion Dresses) </h1>"
   ]
  },
  {
   "cell_type": "code",
   "execution_count": 42,
   "metadata": {},
   "outputs": [],
   "source": [
    "from sklearn.linear_model import LogisticRegression\n",
    "from sklearn.tree import DecisionTreeClassifier\n",
    "from sklearn.metrics import confusion_matrix,accuracy_score\n",
    "from sklearn.svm import NuSVC\n",
    "import sklearn.svm"
   ]
  },
  {
   "cell_type": "code",
   "execution_count": 43,
   "metadata": {},
   "outputs": [
    {
     "name": "stdout",
     "output_type": "stream",
     "text": [
      "(45000, 784)\n",
      "(45000,)\n"
     ]
    }
   ],
   "source": [
    "print(temp_X_train.shape)\n",
    "print(temp_y_train.shape)\n"
   ]
  },
  {
   "cell_type": "markdown",
   "metadata": {},
   "source": [
    "<h2>1. Using Logistic Regression Model </h2>"
   ]
  },
  {
   "cell_type": "code",
   "execution_count": 44,
   "metadata": {},
   "outputs": [
    {
     "data": {
      "text/plain": [
       "LogisticRegression(C=1.0, class_weight=None, dual=False, fit_intercept=True,\n",
       "          intercept_scaling=1, max_iter=100, multi_class='ovr', n_jobs=1,\n",
       "          penalty='l2', random_state=None, solver='liblinear', tol=0.0001,\n",
       "          verbose=0, warm_start=False)"
      ]
     },
     "execution_count": 44,
     "metadata": {},
     "output_type": "execute_result"
    }
   ],
   "source": [
    "log_reg=LogisticRegression()\n",
    "log_reg.fit(temp_X_train,temp_y_train)"
   ]
  },
  {
   "cell_type": "code",
   "execution_count": 45,
   "metadata": {},
   "outputs": [
    {
     "data": {
      "text/plain": [
       "0.851"
      ]
     },
     "execution_count": 45,
     "metadata": {},
     "output_type": "execute_result"
    }
   ],
   "source": [
    "log_score=accuracy_score(log_reg.predict(temp_X_test),temp_y_test)\n",
    "log_score "
   ]
  },
  {
   "cell_type": "markdown",
   "metadata": {},
   "source": [
    "<h2>2. Using Decision Tree Classifier Model </h2>"
   ]
  },
  {
   "cell_type": "code",
   "execution_count": 46,
   "metadata": {},
   "outputs": [
    {
     "data": {
      "text/plain": [
       "DecisionTreeClassifier(class_weight=None, criterion='gini', max_depth=None,\n",
       "            max_features=None, max_leaf_nodes=None,\n",
       "            min_impurity_decrease=0.0, min_impurity_split=None,\n",
       "            min_samples_leaf=1, min_samples_split=2,\n",
       "            min_weight_fraction_leaf=0.0, presort=False, random_state=None,\n",
       "            splitter='best')"
      ]
     },
     "execution_count": 46,
     "metadata": {},
     "output_type": "execute_result"
    }
   ],
   "source": [
    "dec_tree=DecisionTreeClassifier()\n",
    "dec_tree.fit(temp_X_train,temp_y_train)"
   ]
  },
  {
   "cell_type": "code",
   "execution_count": 47,
   "metadata": {},
   "outputs": [
    {
     "data": {
      "text/plain": [
       "0.798"
      ]
     },
     "execution_count": 47,
     "metadata": {},
     "output_type": "execute_result"
    }
   ],
   "source": [
    "dec_tree_score=accuracy_score(dec_tree.predict(temp_X_test),temp_y_test)\n",
    "dec_tree_score "
   ]
  },
  {
   "cell_type": "markdown",
   "metadata": {},
   "source": [
    "<h2> After calculating accuracy by both Machine Learning and Deep Learning models ,we find that Deep learning models works more accurately on this Dataset...</h2>"
   ]
  }
 ],
 "metadata": {
  "kernelspec": {
   "display_name": "Python 3",
   "language": "python",
   "name": "python3"
  }
 },
 "nbformat": 4,
 "nbformat_minor": 2
}
